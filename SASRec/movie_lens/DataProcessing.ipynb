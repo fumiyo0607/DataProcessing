{
 "cells": [
  {
   "cell_type": "code",
   "execution_count": 1,
   "metadata": {},
   "outputs": [],
   "source": [
    "from collections import defaultdict\n",
    "import pandas as pd\n",
    "import random\n",
    "from collections import defaultdict\n",
    "from datetime import datetime\n",
    "from tqdm import tqdm"
   ]
  },
  {
   "cell_type": "markdown",
   "metadata": {},
   "source": [
    "### 使用データセット"
   ]
  },
  {
   "cell_type": "code",
   "execution_count": 2,
   "metadata": {},
   "outputs": [],
   "source": [
    "dataset = 'ml-1m'"
   ]
  },
  {
   "cell_type": "code",
   "execution_count": 3,
   "metadata": {},
   "outputs": [],
   "source": [
    "data_path = '{}/ratings.dat'.format(dataset)"
   ]
  },
  {
   "cell_type": "code",
   "execution_count": 4,
   "metadata": {},
   "outputs": [
    {
     "name": "stderr",
     "output_type": "stream",
     "text": [
      "/anaconda3/lib/python3.7/site-packages/ipykernel_launcher.py:2: FutureWarning: read_table is deprecated, use read_csv instead.\n",
      "  \n",
      "/anaconda3/lib/python3.7/site-packages/ipykernel_launcher.py:2: ParserWarning: Falling back to the 'python' engine because the 'c' engine does not support regex separators (separators > 1 char and different from '\\s+' are interpreted as regex); you can avoid this warning by specifying engine='python'.\n",
      "  \n"
     ]
    }
   ],
   "source": [
    "df = pd.read_table(data_path, sep=\"::\", header=None,\n",
    "                names=['user_id', 'item_id', 'rating', 'time_stamp'], index_col=False)"
   ]
  },
  {
   "cell_type": "code",
   "execution_count": 5,
   "metadata": {},
   "outputs": [],
   "source": [
    "# df = df[0:10000]"
   ]
  },
  {
   "cell_type": "code",
   "execution_count": 6,
   "metadata": {},
   "outputs": [
    {
     "data": {
      "text/html": [
       "<div>\n",
       "<style scoped>\n",
       "    .dataframe tbody tr th:only-of-type {\n",
       "        vertical-align: middle;\n",
       "    }\n",
       "\n",
       "    .dataframe tbody tr th {\n",
       "        vertical-align: top;\n",
       "    }\n",
       "\n",
       "    .dataframe thead th {\n",
       "        text-align: right;\n",
       "    }\n",
       "</style>\n",
       "<table border=\"1\" class=\"dataframe\">\n",
       "  <thead>\n",
       "    <tr style=\"text-align: right;\">\n",
       "      <th></th>\n",
       "      <th>user_id</th>\n",
       "      <th>item_id</th>\n",
       "      <th>rating</th>\n",
       "      <th>time_stamp</th>\n",
       "    </tr>\n",
       "  </thead>\n",
       "  <tbody>\n",
       "    <tr>\n",
       "      <th>0</th>\n",
       "      <td>1</td>\n",
       "      <td>1193</td>\n",
       "      <td>5</td>\n",
       "      <td>978300760</td>\n",
       "    </tr>\n",
       "    <tr>\n",
       "      <th>1</th>\n",
       "      <td>1</td>\n",
       "      <td>661</td>\n",
       "      <td>3</td>\n",
       "      <td>978302109</td>\n",
       "    </tr>\n",
       "    <tr>\n",
       "      <th>2</th>\n",
       "      <td>1</td>\n",
       "      <td>914</td>\n",
       "      <td>3</td>\n",
       "      <td>978301968</td>\n",
       "    </tr>\n",
       "    <tr>\n",
       "      <th>3</th>\n",
       "      <td>1</td>\n",
       "      <td>3408</td>\n",
       "      <td>4</td>\n",
       "      <td>978300275</td>\n",
       "    </tr>\n",
       "    <tr>\n",
       "      <th>4</th>\n",
       "      <td>1</td>\n",
       "      <td>2355</td>\n",
       "      <td>5</td>\n",
       "      <td>978824291</td>\n",
       "    </tr>\n",
       "  </tbody>\n",
       "</table>\n",
       "</div>"
      ],
      "text/plain": [
       "   user_id  item_id  rating  time_stamp\n",
       "0        1     1193       5   978300760\n",
       "1        1      661       3   978302109\n",
       "2        1      914       3   978301968\n",
       "3        1     3408       4   978300275\n",
       "4        1     2355       5   978824291"
      ]
     },
     "execution_count": 6,
     "metadata": {},
     "output_type": "execute_result"
    }
   ],
   "source": [
    "df.head(5)"
   ]
  },
  {
   "cell_type": "code",
   "execution_count": 7,
   "metadata": {},
   "outputs": [],
   "source": [
    "users = df['user_id']\n",
    "items = df['item_id']\n",
    "times = df['time_stamp']"
   ]
  },
  {
   "cell_type": "markdown",
   "metadata": {},
   "source": [
    "### item/user の条件設定"
   ]
  },
  {
   "cell_type": "code",
   "execution_count": 8,
   "metadata": {},
   "outputs": [],
   "source": [
    "# item/userの固定フラグ\n",
    "is_item_per_user_num_const = True\n",
    "# 7,12,17, 52,102 で作成\n",
    "item_per_user = 102"
   ]
  },
  {
   "cell_type": "markdown",
   "metadata": {},
   "source": [
    "item/userを一定に整形"
   ]
  },
  {
   "cell_type": "code",
   "execution_count": 9,
   "metadata": {},
   "outputs": [
    {
     "name": "stdout",
     "output_type": "stream",
     "text": [
      "is_item_per_user_num_const = True\n",
      "item/user = 102\n"
     ]
    }
   ],
   "source": [
    "if is_item_per_user_num_const:\n",
    "    print('is_item_per_user_num_const = {}'.format(is_item_per_user_num_const))\n",
    "    print('item/user = {}'.format(item_per_user))\n",
    "    \n",
    "    User_all = defaultdict(list)\n",
    "    User = defaultdict(list)\n",
    "    \n",
    "    for u, i, t in zip(users, items, times):\n",
    "        User_all[u].append([i,t])\n",
    "        \n",
    "    # 時系列順にソートする\n",
    "    for userid in User.keys():\n",
    "        User[userid].sort(key=lambda x: x[1])\n",
    "        \n",
    "    for u in User_all:\n",
    "        items = User_all[u]\n",
    "        if len(items) > item_per_user:\n",
    "            items = items[0:item_per_user]\n",
    "            User[u] = items\n",
    "    \n",
    "    users = []\n",
    "    items = []\n",
    "    times = []\n",
    "    \n",
    "    for u in User:\n",
    "        for values in User[u]:\n",
    "            users.append(u)\n",
    "            items.append(values[0])\n",
    "            times.append(values[1])"
   ]
  },
  {
   "cell_type": "code",
   "execution_count": 10,
   "metadata": {},
   "outputs": [
    {
     "name": "stdout",
     "output_type": "stream",
     "text": [
      "item/user > 102 を満たすユーザ数:2857\n"
     ]
    }
   ],
   "source": [
    "print('item/user > {} を満たすユーザ数:{}'.format(item_per_user, len(set(users))))"
   ]
  },
  {
   "cell_type": "markdown",
   "metadata": {},
   "source": [
    "### user数 の条件設定"
   ]
  },
  {
   "cell_type": "code",
   "execution_count": 11,
   "metadata": {},
   "outputs": [],
   "source": [
    "# ユーザ数の指定フラグ\n",
    "is_user_num_const = False\n",
    "user_num = 6000"
   ]
  },
  {
   "cell_type": "markdown",
   "metadata": {},
   "source": [
    "指定したユーザ数にデータを整形"
   ]
  },
  {
   "cell_type": "code",
   "execution_count": 12,
   "metadata": {},
   "outputs": [],
   "source": [
    "if is_user_num_const:\n",
    "    print('is_user_num_const = {}'.format(is_user_num_const))\n",
    "    \n",
    "    unique_users = df['user_id'].unique() \n",
    "    master_user = random.sample(list(unique_users), user_num)\n",
    "    ignore_user = []\n",
    "    \n",
    "    users_ = users\n",
    "    items_ = items\n",
    "    times_ = times\n",
    "    \n",
    "    users = []\n",
    "    items = []\n",
    "    times = []\n",
    "    \n",
    "    for u, i, t in tqdm(zip(users_, items_, times_)):\n",
    "        if u in master_user:\n",
    "            users.append(u)\n",
    "            items.append(i)\n",
    "            times.append(t)"
   ]
  },
  {
   "cell_type": "code",
   "execution_count": 13,
   "metadata": {},
   "outputs": [],
   "source": [
    "# 評価件数カウント用のdict\n",
    "countU = defaultdict(lambda: 0)"
   ]
  },
  {
   "cell_type": "code",
   "execution_count": 14,
   "metadata": {},
   "outputs": [],
   "source": [
    "for user, item, time in zip(users, items, times):\n",
    "    countU[user] += 1"
   ]
  },
  {
   "cell_type": "code",
   "execution_count": 15,
   "metadata": {},
   "outputs": [],
   "source": [
    "usermap = dict()\n",
    "usernum = 0\n",
    "itemmap = dict()\n",
    "itemnum = 0\n",
    "User = dict()"
   ]
  },
  {
   "cell_type": "code",
   "execution_count": 16,
   "metadata": {},
   "outputs": [],
   "source": [
    "for user, item, time in zip(users, items, times):\n",
    "    #  評価件数がitem_per_user以下のものは無視    \n",
    "    if countU[user] < item_per_user:\n",
    "        continue\n",
    "        \n",
    "    if user in usermap:\n",
    "        userid = usermap[user]\n",
    "    else:\n",
    "        usernum +=1\n",
    "        userid = usernum\n",
    "        usermap[user] = userid\n",
    "        User[userid] = []\n",
    "        \n",
    "    if item in itemmap:\n",
    "        itemid = itemmap[item]\n",
    "    else:\n",
    "        itemnum += 1\n",
    "        itemid = itemnum\n",
    "        itemmap[item] = itemid\n",
    "        \n",
    "    User[userid].append([time, itemid])"
   ]
  },
  {
   "cell_type": "code",
   "execution_count": 17,
   "metadata": {},
   "outputs": [],
   "source": [
    "# 時系列順にソートする\n",
    "for userid in User.keys():\n",
    "    User[userid].sort(key=lambda x: x[0])"
   ]
  },
  {
   "cell_type": "code",
   "execution_count": 18,
   "metadata": {},
   "outputs": [
    {
     "name": "stdout",
     "output_type": "stream",
     "text": [
      "2857 3330\n"
     ]
    }
   ],
   "source": [
    "print (usernum, itemnum)"
   ]
  },
  {
   "cell_type": "code",
   "execution_count": 19,
   "metadata": {},
   "outputs": [],
   "source": [
    "usermap\n",
    "user_ids = list(usermap.keys())\n",
    "fixed_user_ids = list(usermap.values())"
   ]
  },
  {
   "cell_type": "code",
   "execution_count": 20,
   "metadata": {},
   "outputs": [],
   "source": [
    "df_user_ids = pd.DataFrame(\n",
    "    data={\n",
    "        'user_ids' : user_ids,\n",
    "        'fixed_user_ids' : fixed_user_ids\n",
    "    },\n",
    "    columns=['user_ids', 'fixed_user_ids']\n",
    ")"
   ]
  },
  {
   "cell_type": "code",
   "execution_count": 21,
   "metadata": {},
   "outputs": [],
   "source": [
    "itemmap\n",
    "item_ids = list(itemmap.keys())\n",
    "fixed_item_ids = list(itemmap.values())"
   ]
  },
  {
   "cell_type": "code",
   "execution_count": 22,
   "metadata": {},
   "outputs": [],
   "source": [
    "df_item_ids = pd.DataFrame(\n",
    "    data={\n",
    "        'item_ids' : item_ids,\n",
    "        'fixed_item_ids' : fixed_item_ids\n",
    "    },\n",
    "    columns=['item_ids', 'fixed_item_ids']\n",
    ")"
   ]
  },
  {
   "cell_type": "code",
   "execution_count": 23,
   "metadata": {},
   "outputs": [],
   "source": [
    "user_list = []\n",
    "item_list = []\n",
    "\n",
    "for user in User:\n",
    "    items = User[user]\n",
    "    for item in items:\n",
    "        user_list.append(user)\n",
    "        item_list.append(item[1])"
   ]
  },
  {
   "cell_type": "code",
   "execution_count": 24,
   "metadata": {},
   "outputs": [],
   "source": [
    "each_item_num = '_ItemPerUser=' + str(item_per_user) if is_item_per_user_num_const else ''\n",
    "user_num_in_data= '_UserNum=' + str(user_num) if is_user_num_const else ''\n",
    "\n",
    "fiexd_df =  pd.DataFrame(\n",
    "            data={\n",
    "                'user_id': user_list,\n",
    "                'item_id': item_list\n",
    "            }\n",
    ")"
   ]
  },
  {
   "cell_type": "code",
   "execution_count": 25,
   "metadata": {},
   "outputs": [],
   "source": [
    "df_user_ids.to_csv(\"{}/processing_data/{}_usermap{}{}.csv\".format(dataset, dataset,user_num_in_data, each_item_num))\n",
    "df_item_ids.to_csv(\"{}/processing_data/{}_itemmap{}{}.csv\".format(dataset, dataset,user_num_in_data, each_item_num))\n",
    "fiexd_df.to_csv(\"{}/processing_data/{}_processing{}{}.txt\".format(dataset, dataset,user_num_in_data, each_item_num), header=None, index=False, sep=' ')"
   ]
  }
 ],
 "metadata": {
  "kernelspec": {
   "display_name": "Python 3",
   "language": "python",
   "name": "python3"
  },
  "language_info": {
   "codemirror_mode": {
    "name": "ipython",
    "version": 3
   },
   "file_extension": ".py",
   "mimetype": "text/x-python",
   "name": "python",
   "nbconvert_exporter": "python",
   "pygments_lexer": "ipython3",
   "version": "3.7.3"
  }
 },
 "nbformat": 4,
 "nbformat_minor": 2
}
