{
 "cells": [
  {
   "cell_type": "code",
   "execution_count": null,
   "metadata": {},
   "outputs": [],
   "source": [
    "from collections import defaultdict\n",
    "import pandas as pd\n",
    "import random\n",
    "from collections import defaultdict\n",
    "from datetime import datetime\n",
    "from tqdm import tqdm"
   ]
  },
  {
   "cell_type": "markdown",
   "metadata": {},
   "source": [
    "### データセット作成条件"
   ]
  },
  {
   "cell_type": "code",
   "execution_count": null,
   "metadata": {},
   "outputs": [],
   "source": [
    "# 　使用データセット\n",
    "dataset = 'ml-1m'\n",
    "# ユーザ数の指定フラグ\n",
    "is_user_num_const = True\n",
    "user_num = 30\n",
    "# item/userの固定フラグ\n",
    "is_item_per_user_num_const = True\n",
    "item_per_user = 7"
   ]
  },
  {
   "cell_type": "code",
   "execution_count": null,
   "metadata": {},
   "outputs": [],
   "source": [
    "data_path = '{}/ratings.dat'.format(dataset)"
   ]
  },
  {
   "cell_type": "code",
   "execution_count": null,
   "metadata": {},
   "outputs": [],
   "source": [
    "df = pd.read_table(data_path, sep=\"::\", header=None,\n",
    "                names=['user_id', 'item_id', 'rating', 'time_stamp'], index_col=False)"
   ]
  },
  {
   "cell_type": "code",
   "execution_count": null,
   "metadata": {},
   "outputs": [],
   "source": [
    "# df = df[0:10000]"
   ]
  },
  {
   "cell_type": "code",
   "execution_count": null,
   "metadata": {},
   "outputs": [],
   "source": [
    "df.head(5)"
   ]
  },
  {
   "cell_type": "code",
   "execution_count": null,
   "metadata": {},
   "outputs": [],
   "source": [
    "users = df['user_id']\n",
    "items = df['item_id']\n",
    "times = df['time_stamp']"
   ]
  },
  {
   "cell_type": "code",
   "execution_count": null,
   "metadata": {},
   "outputs": [],
   "source": [
    "# 指定したユーザ数にデータを整形\n",
    "if is_user_num_const:\n",
    "    print('is_user_num_const = {}'.format(is_user_num_const))\n",
    "    \n",
    "    unique_users = df['user_id'].unique() \n",
    "    master_user = random.sample(list(unique_users), user_num)\n",
    "    ignore_user = []\n",
    "    \n",
    "    users_ = users\n",
    "    items_ = items\n",
    "    times_ = times\n",
    "    \n",
    "    users = []\n",
    "    items = []\n",
    "    times = []\n",
    "    \n",
    "    for u, i, t in tqdm(zip(users_, items_, times_)):\n",
    "        if u in master_user:\n",
    "            users.append(u)\n",
    "            items.append(i)\n",
    "            times.append(t)"
   ]
  },
  {
   "cell_type": "code",
   "execution_count": null,
   "metadata": {},
   "outputs": [],
   "source": [
    "# item/userを一定に整形\n",
    "if is_item_per_user_num_const:\n",
    "    print('is_item_per_user_num_const = {}'.format(is_item_per_user_num_const))\n",
    "    print('item/user = {}'.format(item_per_user))\n",
    "    \n",
    "    User = defaultdict(list)\n",
    "    \n",
    "    for u, i, t in zip(users, items, times):\n",
    "        User[u].append([i,t])\n",
    "        \n",
    "    for u in User:\n",
    "        items = User[u]\n",
    "        if len(items) > item_per_user:\n",
    "            items = items[0:item_per_user]\n",
    "            User[u] = items\n",
    "    \n",
    "    users = []\n",
    "    items = []\n",
    "    times = []\n",
    "    \n",
    "    for u in User:\n",
    "        for values in User[u]:\n",
    "            users.append(u)\n",
    "            items.append(values[0])\n",
    "            times.append(values[1])"
   ]
  },
  {
   "cell_type": "code",
   "execution_count": null,
   "metadata": {},
   "outputs": [],
   "source": [
    "# 評価件数カウント用のdict\n",
    "countU = defaultdict(lambda: 0)"
   ]
  },
  {
   "cell_type": "code",
   "execution_count": null,
   "metadata": {},
   "outputs": [],
   "source": [
    "for user, item, time in zip(users, items, times):\n",
    "    countU[user] += 1"
   ]
  },
  {
   "cell_type": "code",
   "execution_count": null,
   "metadata": {},
   "outputs": [],
   "source": [
    "usermap = dict()\n",
    "usernum = 0\n",
    "itemmap = dict()\n",
    "itemnum = 0\n",
    "User = dict()"
   ]
  },
  {
   "cell_type": "code",
   "execution_count": null,
   "metadata": {},
   "outputs": [],
   "source": [
    "for user, item, time in zip(users, items, times):\n",
    "    #  評価件数がitem_per_user以下のものは無視    \n",
    "    if countU[user] < item_per_user :\n",
    "        continue\n",
    "        \n",
    "    if user in usermap:\n",
    "        userid = usermap[user]\n",
    "    else:\n",
    "        usernum +=1\n",
    "        userid = usernum\n",
    "        usermap[user] = userid\n",
    "        User[userid] = []\n",
    "        \n",
    "    if item in itemmap:\n",
    "        itemid = itemmap[item]\n",
    "    else:\n",
    "        itemnum += 1\n",
    "        itemid = itemnum\n",
    "        itemmap[item] = itemid\n",
    "        \n",
    "    User[userid].append([time, itemid])"
   ]
  },
  {
   "cell_type": "code",
   "execution_count": null,
   "metadata": {},
   "outputs": [],
   "source": [
    "# 時系列順にソートする\n",
    "for userid in User.keys():\n",
    "    User[userid].sort(key=lambda x: x[0])"
   ]
  },
  {
   "cell_type": "code",
   "execution_count": null,
   "metadata": {},
   "outputs": [],
   "source": [
    "print (usernum, itemnum)"
   ]
  },
  {
   "cell_type": "code",
   "execution_count": null,
   "metadata": {},
   "outputs": [],
   "source": [
    "usermap"
   ]
  },
  {
   "cell_type": "code",
   "execution_count": null,
   "metadata": {},
   "outputs": [],
   "source": [
    "itemmap"
   ]
  },
  {
   "cell_type": "code",
   "execution_count": null,
   "metadata": {},
   "outputs": [],
   "source": [
    "user_list = []\n",
    "item_list = []\n",
    "\n",
    "for user in User:\n",
    "    items = User[user]\n",
    "    for item in items:\n",
    "        user_list.append(user)\n",
    "        item_list.append(item[1])"
   ]
  },
  {
   "cell_type": "code",
   "execution_count": null,
   "metadata": {},
   "outputs": [],
   "source": [
    "each_item_num = '_ItemPerUser=' + str(item_per_user) if is_item_per_user_num_const else ''\n",
    "user_num_in_data= '_UserNum=' + str(user_num) if is_user_num_const else ''\n",
    "\n",
    "fiexd_df =  pd.DataFrame(\n",
    "            data={\n",
    "                'user_id': user_list,\n",
    "                'item_id': item_list\n",
    "            }\n",
    ")"
   ]
  },
  {
   "cell_type": "code",
   "execution_count": null,
   "metadata": {},
   "outputs": [],
   "source": [
    "fiexd_df.to_csv(\"{}/processing_data/{}_processing{}{}.txt\".format(dataset, dataset,user_num_in_data, each_item_num), header=None, index=False, sep=' ')"
   ]
  }
 ],
 "metadata": {
  "kernelspec": {
   "display_name": "Python 3",
   "language": "python",
   "name": "python3"
  },
  "language_info": {
   "codemirror_mode": {
    "name": "ipython",
    "version": 3
   },
   "file_extension": ".py",
   "mimetype": "text/x-python",
   "name": "python",
   "nbconvert_exporter": "python",
   "pygments_lexer": "ipython3",
   "version": "3.7.3"
  }
 },
 "nbformat": 4,
 "nbformat_minor": 2
}
