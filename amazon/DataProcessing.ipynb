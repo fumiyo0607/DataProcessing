{
 "cells": [
  {
   "cell_type": "code",
   "execution_count": null,
   "metadata": {},
   "outputs": [],
   "source": [
    "import gzip\n",
    "from collections import defaultdict\n",
    "from datetime import datetime\n",
    "from datetime import datetime\n",
    "from tqdm import tqdm\n",
    "import random\n",
    "import pandas as pd"
   ]
  },
  {
   "cell_type": "markdown",
   "metadata": {},
   "source": [
    "### 使用データセット"
   ]
  },
  {
   "cell_type": "code",
   "execution_count": null,
   "metadata": {},
   "outputs": [],
   "source": [
    "# 　使用データセット\n",
    "dataset_name = 'Beauty_5'"
   ]
  },
  {
   "cell_type": "markdown",
   "metadata": {},
   "source": [
    "### item/user の設定"
   ]
  },
  {
   "cell_type": "code",
   "execution_count": null,
   "metadata": {},
   "outputs": [],
   "source": [
    "# item/userの固定フラグ\n",
    "is_item_per_user_num_const = True\n",
    "item_per_user = 5"
   ]
  },
  {
   "cell_type": "code",
   "execution_count": null,
   "metadata": {},
   "outputs": [],
   "source": [
    "def parse(path):\n",
    "    g = gzip.open(path, 'r')\n",
    "    for l in g:\n",
    "        yield eval(l)"
   ]
  },
  {
   "cell_type": "code",
   "execution_count": null,
   "metadata": {},
   "outputs": [],
   "source": [
    "countU = defaultdict(lambda: 0)\n",
    "countP = defaultdict(lambda: 0)\n",
    "line = 0"
   ]
  },
  {
   "cell_type": "code",
   "execution_count": null,
   "metadata": {},
   "outputs": [],
   "source": [
    "f = open('data/reviews_' + dataset_name + '.txt', 'w')"
   ]
  },
  {
   "cell_type": "code",
   "execution_count": null,
   "metadata": {},
   "outputs": [],
   "source": [
    "for l in parse('data/reviews_' + dataset_name + '.json.gz'):\n",
    "    line += 1\n",
    "    f.write(\" \".join([l['reviewerID'], l['asin'], str(l['overall']), str(l['unixReviewTime'])]) + ' \\n')\n",
    "    asin = l['asin']\n",
    "    rev = l['reviewerID']\n",
    "    time = l['unixReviewTime']\n",
    "    countU[rev] += 1\n",
    "    countP[asin] += 1\n",
    "f.close()"
   ]
  },
  {
   "cell_type": "code",
   "execution_count": null,
   "metadata": {},
   "outputs": [],
   "source": [
    "users = []\n",
    "items = []\n",
    "times = []\n",
    "\n",
    "for l in parse('data/reviews_' + dataset_name + '.json.gz'):\n",
    "    line += 1\n",
    "    items.append(l['asin'])\n",
    "    users.append(l['reviewerID'])\n",
    "    times.append(l['unixReviewTime'])"
   ]
  },
  {
   "cell_type": "markdown",
   "metadata": {},
   "source": [
    "item/userを一定に整形"
   ]
  },
  {
   "cell_type": "code",
   "execution_count": null,
   "metadata": {},
   "outputs": [],
   "source": [
    "if is_item_per_user_num_const:\n",
    "    print('is_item_per_user_num_const = {}'.format(is_item_per_user_num_const))\n",
    "    print('item/user = {}'.format(item_per_user))\n",
    "    \n",
    "    User_all = defaultdict(list)\n",
    "    User = defaultdict(list)\n",
    "    \n",
    "    for u, i, t in zip(users, items, times):\n",
    "        User_all[u].append([i,t])\n",
    "        \n",
    "    for u in User_all:\n",
    "        items = User_all[u]\n",
    "        if len(items) > item_per_user:\n",
    "            items = items[0:item_per_user]\n",
    "            User[u] = items\n",
    "    \n",
    "    users = []\n",
    "    items = []\n",
    "    times = []\n",
    "    \n",
    "    for u in User:\n",
    "        for values in User[u]:\n",
    "            users.append(u)\n",
    "            items.append(values[0])\n",
    "            times.append(values[1])"
   ]
  },
  {
   "cell_type": "code",
   "execution_count": null,
   "metadata": {},
   "outputs": [],
   "source": [
    "print('item/user > {} を満たすユーザ数:{}'.format(item_per_user, len(set(users))))"
   ]
  },
  {
   "cell_type": "markdown",
   "metadata": {},
   "source": [
    "### user数 の設定"
   ]
  },
  {
   "cell_type": "code",
   "execution_count": null,
   "metadata": {},
   "outputs": [],
   "source": [
    "# ユーザ数の指定フラグ\n",
    "is_user_num_const = True\n",
    "user_num = 30"
   ]
  },
  {
   "cell_type": "markdown",
   "metadata": {},
   "source": [
    "指定したユーザ数にデータを整形"
   ]
  },
  {
   "cell_type": "code",
   "execution_count": null,
   "metadata": {},
   "outputs": [],
   "source": [
    "if is_user_num_const:\n",
    "    print('is_user_num_const = {}'.format(is_user_num_const))\n",
    "    \n",
    "    unique_users = set(users)\n",
    "    master_user = random.sample(list(unique_users), user_num)\n",
    "    \n",
    "    users_ = users\n",
    "    items_ = items\n",
    "    times_ = times\n",
    "    \n",
    "    users = []\n",
    "    items = []\n",
    "    times = []\n",
    "    \n",
    "    for u, i, t in tqdm(zip(users_, items_, times_)):\n",
    "        if u in master_user:\n",
    "            users.append(u)\n",
    "            items.append(i)\n",
    "            times.append(t)"
   ]
  },
  {
   "cell_type": "code",
   "execution_count": null,
   "metadata": {},
   "outputs": [],
   "source": [
    "usermap = dict()\n",
    "usernum = 0\n",
    "itemmap = dict()\n",
    "itemnum = 0\n",
    "User = dict()"
   ]
  },
  {
   "cell_type": "code",
   "execution_count": null,
   "metadata": {},
   "outputs": [],
   "source": [
    "for user, item, time in zip(users, items, times):\n",
    "    #  評価件数がitem_per_user以下のものは無視    \n",
    "    if countU[user] < item_per_user :\n",
    "        continue\n",
    "        \n",
    "    if user in usermap:\n",
    "        userid = usermap[user]\n",
    "    else:\n",
    "        usernum +=1\n",
    "        userid = usernum\n",
    "        usermap[user] = userid\n",
    "        User[userid] = []\n",
    "        \n",
    "    if item in itemmap:\n",
    "        itemid = itemmap[item]\n",
    "    else:\n",
    "        itemnum += 1\n",
    "        itemid = itemnum\n",
    "        itemmap[item] = itemid\n",
    "        \n",
    "    User[userid].append([time, itemid])"
   ]
  },
  {
   "cell_type": "code",
   "execution_count": null,
   "metadata": {},
   "outputs": [],
   "source": [
    "# 時系列順にソートする\n",
    "for userid in User.keys():\n",
    "    User[userid].sort(key=lambda x: x[0])"
   ]
  },
  {
   "cell_type": "code",
   "execution_count": null,
   "metadata": {},
   "outputs": [],
   "source": [
    "print (usernum, itemnum)"
   ]
  },
  {
   "cell_type": "code",
   "execution_count": null,
   "metadata": {},
   "outputs": [],
   "source": [
    "usermap\n",
    "user_ids = list(usermap.keys())\n",
    "fixed_user_ids = list(usermap.values())"
   ]
  },
  {
   "cell_type": "code",
   "execution_count": null,
   "metadata": {},
   "outputs": [],
   "source": [
    "df_user_ids = pd.DataFrame(\n",
    "    data={\n",
    "        'user_ids' : user_ids,\n",
    "        'fixed_user_ids' : fixed_user_ids\n",
    "    },\n",
    "    columns=['user_ids', 'fixed_user_ids']\n",
    ")"
   ]
  },
  {
   "cell_type": "code",
   "execution_count": null,
   "metadata": {},
   "outputs": [],
   "source": [
    "itemmap\n",
    "item_ids = list(itemmap.keys())\n",
    "fixed_item_ids = list(itemmap.values())"
   ]
  },
  {
   "cell_type": "code",
   "execution_count": null,
   "metadata": {},
   "outputs": [],
   "source": [
    "df_movie_ids = pd.DataFrame(\n",
    "    data={\n",
    "        'item_ids' : item_ids,\n",
    "        'fixed_item_ids' : fixed_item_ids\n",
    "    },\n",
    "    columns=['item_ids', 'fixed_item_ids']\n",
    ")"
   ]
  },
  {
   "cell_type": "code",
   "execution_count": null,
   "metadata": {},
   "outputs": [],
   "source": [
    "each_item_num = '_ItemPerUser=' + str(item_per_user) if is_item_per_user_num_const else ''\n",
    "user_num_in_data= '_UserNum=' + str(user_num) if is_user_num_const else ''"
   ]
  },
  {
   "cell_type": "code",
   "execution_count": null,
   "metadata": {},
   "outputs": [],
   "source": [
    "f = open('data/processing_data/{}_processing{}{}.txt'.format(dataset_name,user_num_in_data, each_item_num), 'w')\n",
    "for user in User.keys():\n",
    "    for i in User[user]:\n",
    "        f.write('%d %d\\n' % (user, i[1]))\n",
    "f.close()"
   ]
  },
  {
   "cell_type": "code",
   "execution_count": null,
   "metadata": {},
   "outputs": [],
   "source": [
    "df_user_ids.to_csv('data/processing_data/{}_usermap{}{}.csv'.format(dataset_name,user_num_in_data, each_item_num))\n",
    "df_movie_ids.to_csv('data/processing_data/{}_itemmap{}{}.csv'.format(dataset_name,user_num_in_data, each_item_num))"
   ]
  }
 ],
 "metadata": {
  "kernelspec": {
   "display_name": "Python 3",
   "language": "python",
   "name": "python3"
  },
  "language_info": {
   "codemirror_mode": {
    "name": "ipython",
    "version": 3
   },
   "file_extension": ".py",
   "mimetype": "text/x-python",
   "name": "python",
   "nbconvert_exporter": "python",
   "pygments_lexer": "ipython3",
   "version": "3.7.3"
  }
 },
 "nbformat": 4,
 "nbformat_minor": 2
}
